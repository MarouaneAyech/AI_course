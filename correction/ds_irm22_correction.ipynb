{
 "cells": [
  {
   "cell_type": "markdown",
   "metadata": {},
   "source": [
    "1.\tLoad the dataset ‘patients.csv' as a dataframe df_patients"
   ]
  },
  {
   "cell_type": "code",
   "execution_count": 55,
   "metadata": {},
   "outputs": [
    {
     "data": {
      "text/html": [
       "<div>\n",
       "<style scoped>\n",
       "    .dataframe tbody tr th:only-of-type {\n",
       "        vertical-align: middle;\n",
       "    }\n",
       "\n",
       "    .dataframe tbody tr th {\n",
       "        vertical-align: top;\n",
       "    }\n",
       "\n",
       "    .dataframe thead th {\n",
       "        text-align: right;\n",
       "    }\n",
       "</style>\n",
       "<table border=\"1\" class=\"dataframe\">\n",
       "  <thead>\n",
       "    <tr style=\"text-align: right;\">\n",
       "      <th></th>\n",
       "      <th>Birth date</th>\n",
       "      <th>Gender</th>\n",
       "      <th>Weight</th>\n",
       "      <th>Cholestérol</th>\n",
       "      <th>Blood Pressure</th>\n",
       "    </tr>\n",
       "    <tr>\n",
       "      <th>Patient</th>\n",
       "      <th></th>\n",
       "      <th></th>\n",
       "      <th></th>\n",
       "      <th></th>\n",
       "      <th></th>\n",
       "    </tr>\n",
       "  </thead>\n",
       "  <tbody>\n",
       "    <tr>\n",
       "      <th>Asma</th>\n",
       "      <td>05/03/1985</td>\n",
       "      <td>F</td>\n",
       "      <td>50</td>\n",
       "      <td>Low</td>\n",
       "      <td>120/80</td>\n",
       "    </tr>\n",
       "    <tr>\n",
       "      <th>Salem</th>\n",
       "      <td>03/07/1965</td>\n",
       "      <td>M</td>\n",
       "      <td>120</td>\n",
       "      <td>Low</td>\n",
       "      <td>140/90</td>\n",
       "    </tr>\n",
       "    <tr>\n",
       "      <th>Aroua</th>\n",
       "      <td>10/05/1980</td>\n",
       "      <td>F</td>\n",
       "      <td>55</td>\n",
       "      <td>Low</td>\n",
       "      <td>110/75</td>\n",
       "    </tr>\n",
       "    <tr>\n",
       "      <th>Rochdi</th>\n",
       "      <td>02/01/2001</td>\n",
       "      <td>M</td>\n",
       "      <td>78</td>\n",
       "      <td>Medium</td>\n",
       "      <td>125/82</td>\n",
       "    </tr>\n",
       "    <tr>\n",
       "      <th>Samir</th>\n",
       "      <td>08/06/1950</td>\n",
       "      <td>M</td>\n",
       "      <td>105</td>\n",
       "      <td>High</td>\n",
       "      <td>138/87</td>\n",
       "    </tr>\n",
       "    <tr>\n",
       "      <th>Ramzi</th>\n",
       "      <td>05/12/1978</td>\n",
       "      <td>M</td>\n",
       "      <td>80</td>\n",
       "      <td>Medium</td>\n",
       "      <td>120/78</td>\n",
       "    </tr>\n",
       "    <tr>\n",
       "      <th>Louay</th>\n",
       "      <td>10/03/2010</td>\n",
       "      <td>M</td>\n",
       "      <td>60</td>\n",
       "      <td>Medium</td>\n",
       "      <td>110/80</td>\n",
       "    </tr>\n",
       "  </tbody>\n",
       "</table>\n",
       "</div>"
      ],
      "text/plain": [
       "         Birth date Gender  Weight Cholestérol Blood Pressure\n",
       "Patient                                                      \n",
       "Asma     05/03/1985      F      50         Low         120/80\n",
       "Salem    03/07/1965      M     120         Low         140/90\n",
       "Aroua    10/05/1980      F      55         Low         110/75\n",
       "Rochdi   02/01/2001      M      78      Medium         125/82\n",
       "Samir    08/06/1950      M     105        High         138/87\n",
       "Ramzi    05/12/1978      M      80      Medium         120/78\n",
       "Louay    10/03/2010      M      60      Medium         110/80"
      ]
     },
     "execution_count": 55,
     "metadata": {},
     "output_type": "execute_result"
    }
   ],
   "source": [
    "import pandas as pd\n",
    "df_patients=pd.read_csv('patients.csv' , header=0, index_col=0)\n",
    "df_patients"
   ]
  },
  {
   "cell_type": "markdown",
   "metadata": {},
   "source": [
    "Delete the row that correponds to 'Louay'"
   ]
  },
  {
   "cell_type": "code",
   "execution_count": 56,
   "metadata": {},
   "outputs": [
    {
     "data": {
      "text/html": [
       "<div>\n",
       "<style scoped>\n",
       "    .dataframe tbody tr th:only-of-type {\n",
       "        vertical-align: middle;\n",
       "    }\n",
       "\n",
       "    .dataframe tbody tr th {\n",
       "        vertical-align: top;\n",
       "    }\n",
       "\n",
       "    .dataframe thead th {\n",
       "        text-align: right;\n",
       "    }\n",
       "</style>\n",
       "<table border=\"1\" class=\"dataframe\">\n",
       "  <thead>\n",
       "    <tr style=\"text-align: right;\">\n",
       "      <th></th>\n",
       "      <th>Birth date</th>\n",
       "      <th>Gender</th>\n",
       "      <th>Weight</th>\n",
       "      <th>Cholestérol</th>\n",
       "      <th>Blood Pressure</th>\n",
       "    </tr>\n",
       "    <tr>\n",
       "      <th>Patient</th>\n",
       "      <th></th>\n",
       "      <th></th>\n",
       "      <th></th>\n",
       "      <th></th>\n",
       "      <th></th>\n",
       "    </tr>\n",
       "  </thead>\n",
       "  <tbody>\n",
       "    <tr>\n",
       "      <th>Asma</th>\n",
       "      <td>05/03/1985</td>\n",
       "      <td>F</td>\n",
       "      <td>50</td>\n",
       "      <td>Low</td>\n",
       "      <td>120/80</td>\n",
       "    </tr>\n",
       "    <tr>\n",
       "      <th>Salem</th>\n",
       "      <td>03/07/1965</td>\n",
       "      <td>M</td>\n",
       "      <td>120</td>\n",
       "      <td>Low</td>\n",
       "      <td>140/90</td>\n",
       "    </tr>\n",
       "    <tr>\n",
       "      <th>Aroua</th>\n",
       "      <td>10/05/1980</td>\n",
       "      <td>F</td>\n",
       "      <td>55</td>\n",
       "      <td>Low</td>\n",
       "      <td>110/75</td>\n",
       "    </tr>\n",
       "    <tr>\n",
       "      <th>Rochdi</th>\n",
       "      <td>02/01/2001</td>\n",
       "      <td>M</td>\n",
       "      <td>78</td>\n",
       "      <td>Medium</td>\n",
       "      <td>125/82</td>\n",
       "    </tr>\n",
       "    <tr>\n",
       "      <th>Samir</th>\n",
       "      <td>08/06/1950</td>\n",
       "      <td>M</td>\n",
       "      <td>105</td>\n",
       "      <td>High</td>\n",
       "      <td>138/87</td>\n",
       "    </tr>\n",
       "    <tr>\n",
       "      <th>Ramzi</th>\n",
       "      <td>05/12/1978</td>\n",
       "      <td>M</td>\n",
       "      <td>80</td>\n",
       "      <td>Medium</td>\n",
       "      <td>120/78</td>\n",
       "    </tr>\n",
       "  </tbody>\n",
       "</table>\n",
       "</div>"
      ],
      "text/plain": [
       "         Birth date Gender  Weight Cholestérol Blood Pressure\n",
       "Patient                                                      \n",
       "Asma     05/03/1985      F      50         Low         120/80\n",
       "Salem    03/07/1965      M     120         Low         140/90\n",
       "Aroua    10/05/1980      F      55         Low         110/75\n",
       "Rochdi   02/01/2001      M      78      Medium         125/82\n",
       "Samir    08/06/1950      M     105        High         138/87\n",
       "Ramzi    05/12/1978      M      80      Medium         120/78"
      ]
     },
     "execution_count": 56,
     "metadata": {},
     "output_type": "execute_result"
    }
   ],
   "source": [
    "df_patients.drop('Louay', axis=0, errors='ignore', inplace=True)\n",
    "df_patients"
   ]
  },
  {
   "cell_type": "markdown",
   "metadata": {},
   "source": [
    "2.\tKeep only the columns 'Gender', 'Birth date', Weight' columns in df_patients dataframe"
   ]
  },
  {
   "cell_type": "code",
   "execution_count": 57,
   "metadata": {},
   "outputs": [],
   "source": [
    "df_patients.drop(['Cholestérol','Blood Pressure'], axis=1, errors='ignore', inplace=True)"
   ]
  },
  {
   "cell_type": "code",
   "execution_count": 58,
   "metadata": {},
   "outputs": [
    {
     "data": {
      "text/html": [
       "<div>\n",
       "<style scoped>\n",
       "    .dataframe tbody tr th:only-of-type {\n",
       "        vertical-align: middle;\n",
       "    }\n",
       "\n",
       "    .dataframe tbody tr th {\n",
       "        vertical-align: top;\n",
       "    }\n",
       "\n",
       "    .dataframe thead th {\n",
       "        text-align: right;\n",
       "    }\n",
       "</style>\n",
       "<table border=\"1\" class=\"dataframe\">\n",
       "  <thead>\n",
       "    <tr style=\"text-align: right;\">\n",
       "      <th></th>\n",
       "      <th>Birth date</th>\n",
       "      <th>Gender</th>\n",
       "      <th>Weight</th>\n",
       "    </tr>\n",
       "    <tr>\n",
       "      <th>Patient</th>\n",
       "      <th></th>\n",
       "      <th></th>\n",
       "      <th></th>\n",
       "    </tr>\n",
       "  </thead>\n",
       "  <tbody>\n",
       "    <tr>\n",
       "      <th>Asma</th>\n",
       "      <td>05/03/1985</td>\n",
       "      <td>F</td>\n",
       "      <td>50</td>\n",
       "    </tr>\n",
       "    <tr>\n",
       "      <th>Salem</th>\n",
       "      <td>03/07/1965</td>\n",
       "      <td>M</td>\n",
       "      <td>120</td>\n",
       "    </tr>\n",
       "    <tr>\n",
       "      <th>Aroua</th>\n",
       "      <td>10/05/1980</td>\n",
       "      <td>F</td>\n",
       "      <td>55</td>\n",
       "    </tr>\n",
       "    <tr>\n",
       "      <th>Rochdi</th>\n",
       "      <td>02/01/2001</td>\n",
       "      <td>M</td>\n",
       "      <td>78</td>\n",
       "    </tr>\n",
       "    <tr>\n",
       "      <th>Samir</th>\n",
       "      <td>08/06/1950</td>\n",
       "      <td>M</td>\n",
       "      <td>105</td>\n",
       "    </tr>\n",
       "    <tr>\n",
       "      <th>Ramzi</th>\n",
       "      <td>05/12/1978</td>\n",
       "      <td>M</td>\n",
       "      <td>80</td>\n",
       "    </tr>\n",
       "  </tbody>\n",
       "</table>\n",
       "</div>"
      ],
      "text/plain": [
       "         Birth date Gender  Weight\n",
       "Patient                           \n",
       "Asma     05/03/1985      F      50\n",
       "Salem    03/07/1965      M     120\n",
       "Aroua    10/05/1980      F      55\n",
       "Rochdi   02/01/2001      M      78\n",
       "Samir    08/06/1950      M     105\n",
       "Ramzi    05/12/1978      M      80"
      ]
     },
     "execution_count": 58,
     "metadata": {},
     "output_type": "execute_result"
    }
   ],
   "source": [
    "df_patients"
   ]
  },
  {
   "cell_type": "markdown",
   "metadata": {},
   "source": [
    "3. Normalize the Weight  'column' using this formula:\n",
    "    \n",
    "        weight = (weight - min)/(min - max)\n",
    "        \n",
    "Note : You can compute the minimum or the maximum of a column ‘A’ of a dataframe df as follows:\n",
    "        \n",
    "        min=df[‘A’].min() \n",
    "        max=df[‘A’].max()\n"
   ]
  },
  {
   "cell_type": "code",
   "execution_count": 59,
   "metadata": {},
   "outputs": [
    {
     "data": {
      "text/html": [
       "<div>\n",
       "<style scoped>\n",
       "    .dataframe tbody tr th:only-of-type {\n",
       "        vertical-align: middle;\n",
       "    }\n",
       "\n",
       "    .dataframe tbody tr th {\n",
       "        vertical-align: top;\n",
       "    }\n",
       "\n",
       "    .dataframe thead th {\n",
       "        text-align: right;\n",
       "    }\n",
       "</style>\n",
       "<table border=\"1\" class=\"dataframe\">\n",
       "  <thead>\n",
       "    <tr style=\"text-align: right;\">\n",
       "      <th></th>\n",
       "      <th>Birth date</th>\n",
       "      <th>Gender</th>\n",
       "      <th>Weight</th>\n",
       "    </tr>\n",
       "    <tr>\n",
       "      <th>Patient</th>\n",
       "      <th></th>\n",
       "      <th></th>\n",
       "      <th></th>\n",
       "    </tr>\n",
       "  </thead>\n",
       "  <tbody>\n",
       "    <tr>\n",
       "      <th>Asma</th>\n",
       "      <td>05/03/1985</td>\n",
       "      <td>F</td>\n",
       "      <td>0.000000</td>\n",
       "    </tr>\n",
       "    <tr>\n",
       "      <th>Salem</th>\n",
       "      <td>03/07/1965</td>\n",
       "      <td>M</td>\n",
       "      <td>1.000000</td>\n",
       "    </tr>\n",
       "    <tr>\n",
       "      <th>Aroua</th>\n",
       "      <td>10/05/1980</td>\n",
       "      <td>F</td>\n",
       "      <td>0.071429</td>\n",
       "    </tr>\n",
       "    <tr>\n",
       "      <th>Rochdi</th>\n",
       "      <td>02/01/2001</td>\n",
       "      <td>M</td>\n",
       "      <td>0.400000</td>\n",
       "    </tr>\n",
       "    <tr>\n",
       "      <th>Samir</th>\n",
       "      <td>08/06/1950</td>\n",
       "      <td>M</td>\n",
       "      <td>0.785714</td>\n",
       "    </tr>\n",
       "    <tr>\n",
       "      <th>Ramzi</th>\n",
       "      <td>05/12/1978</td>\n",
       "      <td>M</td>\n",
       "      <td>0.428571</td>\n",
       "    </tr>\n",
       "  </tbody>\n",
       "</table>\n",
       "</div>"
      ],
      "text/plain": [
       "         Birth date Gender    Weight\n",
       "Patient                             \n",
       "Asma     05/03/1985      F  0.000000\n",
       "Salem    03/07/1965      M  1.000000\n",
       "Aroua    10/05/1980      F  0.071429\n",
       "Rochdi   02/01/2001      M  0.400000\n",
       "Samir    08/06/1950      M  0.785714\n",
       "Ramzi    05/12/1978      M  0.428571"
      ]
     },
     "execution_count": 59,
     "metadata": {},
     "output_type": "execute_result"
    }
   ],
   "source": [
    "min=df_patients['Weight'].min()\n",
    "max=df_patients['Weight'].max()\n",
    "df_patients['Weight']=df_patients['Weight'].apply(\n",
    "                lambda weight : (weight-min)/(max-min))\n",
    "df_patients"
   ]
  },
  {
   "cell_type": "markdown",
   "metadata": {},
   "source": [
    "4. Replace 'Gender' by its OHE encoding"
   ]
  },
  {
   "cell_type": "code",
   "execution_count": 60,
   "metadata": {},
   "outputs": [
    {
     "data": {
      "text/html": [
       "<div>\n",
       "<style scoped>\n",
       "    .dataframe tbody tr th:only-of-type {\n",
       "        vertical-align: middle;\n",
       "    }\n",
       "\n",
       "    .dataframe tbody tr th {\n",
       "        vertical-align: top;\n",
       "    }\n",
       "\n",
       "    .dataframe thead th {\n",
       "        text-align: right;\n",
       "    }\n",
       "</style>\n",
       "<table border=\"1\" class=\"dataframe\">\n",
       "  <thead>\n",
       "    <tr style=\"text-align: right;\">\n",
       "      <th></th>\n",
       "      <th>Birth date</th>\n",
       "      <th>Weight</th>\n",
       "      <th>Gender F</th>\n",
       "      <th>Gender M</th>\n",
       "    </tr>\n",
       "    <tr>\n",
       "      <th>Patient</th>\n",
       "      <th></th>\n",
       "      <th></th>\n",
       "      <th></th>\n",
       "      <th></th>\n",
       "    </tr>\n",
       "  </thead>\n",
       "  <tbody>\n",
       "    <tr>\n",
       "      <th>Asma</th>\n",
       "      <td>05/03/1985</td>\n",
       "      <td>0.000000</td>\n",
       "      <td>1.0</td>\n",
       "      <td>0.0</td>\n",
       "    </tr>\n",
       "    <tr>\n",
       "      <th>Salem</th>\n",
       "      <td>03/07/1965</td>\n",
       "      <td>1.000000</td>\n",
       "      <td>0.0</td>\n",
       "      <td>1.0</td>\n",
       "    </tr>\n",
       "    <tr>\n",
       "      <th>Aroua</th>\n",
       "      <td>10/05/1980</td>\n",
       "      <td>0.071429</td>\n",
       "      <td>1.0</td>\n",
       "      <td>0.0</td>\n",
       "    </tr>\n",
       "    <tr>\n",
       "      <th>Rochdi</th>\n",
       "      <td>02/01/2001</td>\n",
       "      <td>0.400000</td>\n",
       "      <td>0.0</td>\n",
       "      <td>1.0</td>\n",
       "    </tr>\n",
       "    <tr>\n",
       "      <th>Samir</th>\n",
       "      <td>08/06/1950</td>\n",
       "      <td>0.785714</td>\n",
       "      <td>0.0</td>\n",
       "      <td>1.0</td>\n",
       "    </tr>\n",
       "    <tr>\n",
       "      <th>Ramzi</th>\n",
       "      <td>05/12/1978</td>\n",
       "      <td>0.428571</td>\n",
       "      <td>0.0</td>\n",
       "      <td>1.0</td>\n",
       "    </tr>\n",
       "  </tbody>\n",
       "</table>\n",
       "</div>"
      ],
      "text/plain": [
       "         Birth date    Weight  Gender F  Gender M\n",
       "Patient                                          \n",
       "Asma     05/03/1985  0.000000       1.0       0.0\n",
       "Salem    03/07/1965  1.000000       0.0       1.0\n",
       "Aroua    10/05/1980  0.071429       1.0       0.0\n",
       "Rochdi   02/01/2001  0.400000       0.0       1.0\n",
       "Samir    08/06/1950  0.785714       0.0       1.0\n",
       "Ramzi    05/12/1978  0.428571       0.0       1.0"
      ]
     },
     "execution_count": 60,
     "metadata": {},
     "output_type": "execute_result"
    }
   ],
   "source": [
    "from sklearn.preprocessing import OneHotEncoder\n",
    "ohe=OneHotEncoder()\n",
    "ohe.fit(df_patients[['Gender']])\n",
    "gender_encoded=pd.DataFrame(ohe.transform(df_patients[['Gender']]).toarray(),\n",
    "                            columns='Gender ' + ohe.categories_[0],\n",
    "                            index=df_patients.index)\n",
    "df_patients=pd.concat([df_patients,gender_encoded] , axis=1)\n",
    "df_patients.drop('Gender', axis=1, errors='ignore', inplace=True)\n",
    "df_patients"
   ]
  },
  {
   "cell_type": "markdown",
   "metadata": {},
   "source": [
    "5. Replace 'Birth date' column by 'Young' column as follows :\n",
    "- 0 if the patient age > mean(age)\n",
    "- 1 else\t\n"
   ]
  },
  {
   "cell_type": "code",
   "execution_count": 61,
   "metadata": {},
   "outputs": [
    {
     "data": {
      "text/html": [
       "<div>\n",
       "<style scoped>\n",
       "    .dataframe tbody tr th:only-of-type {\n",
       "        vertical-align: middle;\n",
       "    }\n",
       "\n",
       "    .dataframe tbody tr th {\n",
       "        vertical-align: top;\n",
       "    }\n",
       "\n",
       "    .dataframe thead th {\n",
       "        text-align: right;\n",
       "    }\n",
       "</style>\n",
       "<table border=\"1\" class=\"dataframe\">\n",
       "  <thead>\n",
       "    <tr style=\"text-align: right;\">\n",
       "      <th></th>\n",
       "      <th>Weight</th>\n",
       "      <th>Gender F</th>\n",
       "      <th>Gender M</th>\n",
       "      <th>Young</th>\n",
       "    </tr>\n",
       "    <tr>\n",
       "      <th>Patient</th>\n",
       "      <th></th>\n",
       "      <th></th>\n",
       "      <th></th>\n",
       "      <th></th>\n",
       "    </tr>\n",
       "  </thead>\n",
       "  <tbody>\n",
       "    <tr>\n",
       "      <th>Asma</th>\n",
       "      <td>0.000000</td>\n",
       "      <td>1.0</td>\n",
       "      <td>0.0</td>\n",
       "      <td>1</td>\n",
       "    </tr>\n",
       "    <tr>\n",
       "      <th>Salem</th>\n",
       "      <td>1.000000</td>\n",
       "      <td>0.0</td>\n",
       "      <td>1.0</td>\n",
       "      <td>0</td>\n",
       "    </tr>\n",
       "    <tr>\n",
       "      <th>Aroua</th>\n",
       "      <td>0.071429</td>\n",
       "      <td>1.0</td>\n",
       "      <td>0.0</td>\n",
       "      <td>1</td>\n",
       "    </tr>\n",
       "    <tr>\n",
       "      <th>Rochdi</th>\n",
       "      <td>0.400000</td>\n",
       "      <td>0.0</td>\n",
       "      <td>1.0</td>\n",
       "      <td>1</td>\n",
       "    </tr>\n",
       "    <tr>\n",
       "      <th>Samir</th>\n",
       "      <td>0.785714</td>\n",
       "      <td>0.0</td>\n",
       "      <td>1.0</td>\n",
       "      <td>0</td>\n",
       "    </tr>\n",
       "    <tr>\n",
       "      <th>Ramzi</th>\n",
       "      <td>0.428571</td>\n",
       "      <td>0.0</td>\n",
       "      <td>1.0</td>\n",
       "      <td>1</td>\n",
       "    </tr>\n",
       "  </tbody>\n",
       "</table>\n",
       "</div>"
      ],
      "text/plain": [
       "           Weight  Gender F  Gender M  Young\n",
       "Patient                                     \n",
       "Asma     0.000000       1.0       0.0      1\n",
       "Salem    1.000000       0.0       1.0      0\n",
       "Aroua    0.071429       1.0       0.0      1\n",
       "Rochdi   0.400000       0.0       1.0      1\n",
       "Samir    0.785714       0.0       1.0      0\n",
       "Ramzi    0.428571       0.0       1.0      1"
      ]
     },
     "execution_count": 61,
     "metadata": {},
     "output_type": "execute_result"
    }
   ],
   "source": [
    "from datetime import datetime\n",
    "\n",
    "df_patients['Birth date'] = pd.to_datetime(df_patients['Birth date'])\n",
    "def age_range(date):\n",
    "    age = datetime.now().year-date.year\n",
    "    return age\n",
    "df_patients['age']=df_patients['Birth date'].apply(age_range)\n",
    "\n",
    "age_mean=df_patients['age'].mean()\n",
    "\n",
    "def encode_age(age):\n",
    "    if age<=age_mean:\n",
    "        return 1\n",
    "    else:\n",
    "        return 0\n",
    "df_patients['Young']=df_patients['age'].apply(encode_age)\n",
    "df_patients.drop(['Birth date','age'], axis=1, errors='ignore', inplace=True)\n",
    "df_patients"
   ]
  },
  {
   "cell_type": "markdown",
   "metadata": {},
   "source": [
    "6. Reduce the dimensions of the dataset using PCA (keep only 2 dimensions)"
   ]
  },
  {
   "cell_type": "code",
   "execution_count": 62,
   "metadata": {},
   "outputs": [
    {
     "data": {
      "text/plain": [
       "array([[ 1.08106684, -0.17544722],\n",
       "       [-0.90477554, -0.38101021],\n",
       "       [ 1.05053995, -0.19184539],\n",
       "       [-0.20071281,  0.54333889],\n",
       "       [-0.81319487, -0.33181568],\n",
       "       [-0.21292357,  0.53677962]])"
      ]
     },
     "execution_count": 62,
     "metadata": {},
     "output_type": "execute_result"
    }
   ],
   "source": [
    "from sklearn.decomposition import PCA\n",
    "pca=PCA(n_components=2)\n",
    "pca.fit(df_patients)\n",
    "X_pca=pca.transform(df_patients)\n",
    "X_pca"
   ]
  },
  {
   "cell_type": "markdown",
   "metadata": {},
   "source": [
    "7. Apply Kmeans on the resulting dataset to regroup the clients into 3 clusters"
   ]
  },
  {
   "cell_type": "code",
   "execution_count": 63,
   "metadata": {},
   "outputs": [
    {
     "name": "stderr",
     "output_type": "stream",
     "text": [
      "c:\\Users\\Polytech INTL\\OneDrive - POLYTECH INTL\\Desktop\\IRM2_2023\\AI_course\\venv_ai\\lib\\site-packages\\sklearn\\cluster\\_kmeans.py:1416: FutureWarning: The default value of `n_init` will change from 10 to 'auto' in 1.4. Set the value of `n_init` explicitly to suppress the warning\n",
      "  super()._check_params_vs_input(X, default_n_init=10)\n"
     ]
    }
   ],
   "source": [
    "from sklearn.cluster import KMeans\n",
    "km=KMeans(n_clusters=3)\n",
    "km.fit(X_pca)\n",
    "labels = km.predict(X_pca)\n",
    "cluster0=X_pca[labels==0,:]\n",
    "cluster1=X_pca[labels==1,:]\n",
    "cluster2=X_pca[labels==2,:]"
   ]
  },
  {
   "cell_type": "markdown",
   "metadata": {},
   "source": [
    "8. Predict and visualize the clusters in a figure s.t. :\n",
    "- Use different colors\n",
    "- Show the labels"
   ]
  },
  {
   "cell_type": "code",
   "execution_count": 64,
   "metadata": {},
   "outputs": [
    {
     "data": {
      "image/png": "[encoded data removed]",
      "text/plain": [
       "<Figure size 640x480 with 1 Axes>"
      ]
     },
     "metadata": {},
     "output_type": "display_data"
    }
   ],
   "source": [
    "# Show the cluster points with differents colors (based on cluster) and + symbol \n",
    "import matplotlib.pyplot as plt\n",
    "\n",
    "plt.plot(cluster0[:,0],cluster0[:,1],'b+', label='cluster 0')\n",
    "plt.plot(cluster1[:,0],cluster1[:,1],'g+', label='cluster 1')\n",
    "plt.plot(cluster2[:,0],cluster2[:,1],'r+', label='cluster 2')\n",
    "\n",
    "for nom, x, y in zip(df_patients.index,X_pca[:,0],X_pca[:,1]):\n",
    "  plt.annotate(nom, xy =(x, y), xycoords=\"data\")\n",
    "\n",
    "plt.legend()\n",
    "plt.title('Clusters of patients')\n",
    "plt.show()"
   ]
  },
  {
   "cell_type": "markdown",
   "metadata": {},
   "source": [
    "9. Let ‘Sallem’ be a new patient. Their informations are Gender : Male , Weight : 100, Birth date : 04/02/1968.\n",
    "- Predict the cluster label of ‘Sallem’\n",
    "- Visualize ‘Sallem’ and its cluster label in the figure along side the other patients\n"
   ]
  },
  {
   "cell_type": "code",
   "execution_count": 65,
   "metadata": {},
   "outputs": [
    {
     "data": {
      "text/html": [
       "<div>\n",
       "<style scoped>\n",
       "    .dataframe tbody tr th:only-of-type {\n",
       "        vertical-align: middle;\n",
       "    }\n",
       "\n",
       "    .dataframe tbody tr th {\n",
       "        vertical-align: top;\n",
       "    }\n",
       "\n",
       "    .dataframe thead th {\n",
       "        text-align: right;\n",
       "    }\n",
       "</style>\n",
       "<table border=\"1\" class=\"dataframe\">\n",
       "  <thead>\n",
       "    <tr style=\"text-align: right;\">\n",
       "      <th></th>\n",
       "      <th>Gender</th>\n",
       "      <th>Weight</th>\n",
       "      <th>Birth date</th>\n",
       "    </tr>\n",
       "  </thead>\n",
       "  <tbody>\n",
       "    <tr>\n",
       "      <th>Sallem</th>\n",
       "      <td>M</td>\n",
       "      <td>100</td>\n",
       "      <td>04/02/1968</td>\n",
       "    </tr>\n",
       "  </tbody>\n",
       "</table>\n",
       "</div>"
      ],
      "text/plain": [
       "       Gender  Weight  Birth date\n",
       "Sallem      M     100  04/02/1968"
      ]
     },
     "execution_count": 65,
     "metadata": {},
     "output_type": "execute_result"
    }
   ],
   "source": [
    "df_sallem = pd.DataFrame([['M', 100, '04/02/1968']], \n",
    "                        columns=['Gender','Weight','Birth date'], \n",
    "                        index=['Sallem'])\n",
    "df_sallem"
   ]
  },
  {
   "cell_type": "code",
   "execution_count": 66,
   "metadata": {},
   "outputs": [
    {
     "data": {
      "text/html": [
       "<div>\n",
       "<style scoped>\n",
       "    .dataframe tbody tr th:only-of-type {\n",
       "        vertical-align: middle;\n",
       "    }\n",
       "\n",
       "    .dataframe tbody tr th {\n",
       "        vertical-align: top;\n",
       "    }\n",
       "\n",
       "    .dataframe thead th {\n",
       "        text-align: right;\n",
       "    }\n",
       "</style>\n",
       "<table border=\"1\" class=\"dataframe\">\n",
       "  <thead>\n",
       "    <tr style=\"text-align: right;\">\n",
       "      <th></th>\n",
       "      <th>Gender</th>\n",
       "      <th>Weight</th>\n",
       "      <th>Birth date</th>\n",
       "    </tr>\n",
       "  </thead>\n",
       "  <tbody>\n",
       "    <tr>\n",
       "      <th>Sallem</th>\n",
       "      <td>M</td>\n",
       "      <td>0.714286</td>\n",
       "      <td>04/02/1968</td>\n",
       "    </tr>\n",
       "  </tbody>\n",
       "</table>\n",
       "</div>"
      ],
      "text/plain": [
       "       Gender    Weight  Birth date\n",
       "Sallem      M  0.714286  04/02/1968"
      ]
     },
     "execution_count": 66,
     "metadata": {},
     "output_type": "execute_result"
    }
   ],
   "source": [
    "df_sallem['Weight']=df_sallem['Weight'].apply(\n",
    "                lambda weight : (weight-min)/(max-min))\n",
    "df_sallem"
   ]
  },
  {
   "cell_type": "code",
   "execution_count": 67,
   "metadata": {},
   "outputs": [
    {
     "data": {
      "text/html": [
       "<div>\n",
       "<style scoped>\n",
       "    .dataframe tbody tr th:only-of-type {\n",
       "        vertical-align: middle;\n",
       "    }\n",
       "\n",
       "    .dataframe tbody tr th {\n",
       "        vertical-align: top;\n",
       "    }\n",
       "\n",
       "    .dataframe thead th {\n",
       "        text-align: right;\n",
       "    }\n",
       "</style>\n",
       "<table border=\"1\" class=\"dataframe\">\n",
       "  <thead>\n",
       "    <tr style=\"text-align: right;\">\n",
       "      <th></th>\n",
       "      <th>Weight</th>\n",
       "      <th>Birth date</th>\n",
       "      <th>Gender F</th>\n",
       "      <th>Gender M</th>\n",
       "    </tr>\n",
       "  </thead>\n",
       "  <tbody>\n",
       "    <tr>\n",
       "      <th>Sallem</th>\n",
       "      <td>0.714286</td>\n",
       "      <td>04/02/1968</td>\n",
       "      <td>0.0</td>\n",
       "      <td>1.0</td>\n",
       "    </tr>\n",
       "  </tbody>\n",
       "</table>\n",
       "</div>"
      ],
      "text/plain": [
       "          Weight  Birth date  Gender F  Gender M\n",
       "Sallem  0.714286  04/02/1968       0.0       1.0"
      ]
     },
     "execution_count": 67,
     "metadata": {},
     "output_type": "execute_result"
    }
   ],
   "source": [
    "gender_encoded=pd.DataFrame(ohe.transform(df_sallem[['Gender']]).toarray(),\n",
    "                            columns='Gender ' + ohe.categories_[0],\n",
    "                            index=['Sallem'])\n",
    "df_sallem=pd.concat([df_sallem,gender_encoded] , axis=1)\n",
    "df_sallem.drop('Gender', axis=1, errors='ignore', inplace=True)\n",
    "df_sallem"
   ]
  },
  {
   "cell_type": "code",
   "execution_count": 68,
   "metadata": {},
   "outputs": [
    {
     "data": {
      "text/html": [
       "<div>\n",
       "<style scoped>\n",
       "    .dataframe tbody tr th:only-of-type {\n",
       "        vertical-align: middle;\n",
       "    }\n",
       "\n",
       "    .dataframe tbody tr th {\n",
       "        vertical-align: top;\n",
       "    }\n",
       "\n",
       "    .dataframe thead th {\n",
       "        text-align: right;\n",
       "    }\n",
       "</style>\n",
       "<table border=\"1\" class=\"dataframe\">\n",
       "  <thead>\n",
       "    <tr style=\"text-align: right;\">\n",
       "      <th></th>\n",
       "      <th>Weight</th>\n",
       "      <th>Gender F</th>\n",
       "      <th>Gender M</th>\n",
       "      <th>Young</th>\n",
       "    </tr>\n",
       "  </thead>\n",
       "  <tbody>\n",
       "    <tr>\n",
       "      <th>Sallem</th>\n",
       "      <td>0.714286</td>\n",
       "      <td>0.0</td>\n",
       "      <td>1.0</td>\n",
       "      <td>0</td>\n",
       "    </tr>\n",
       "  </tbody>\n",
       "</table>\n",
       "</div>"
      ],
      "text/plain": [
       "          Weight  Gender F  Gender M  Young\n",
       "Sallem  0.714286       0.0       1.0      0"
      ]
     },
     "execution_count": 68,
     "metadata": {},
     "output_type": "execute_result"
    }
   ],
   "source": [
    "df_sallem['Birth date'] = pd.to_datetime(df_sallem['Birth date'])\n",
    "df_sallem['age']=df_sallem['Birth date'].apply(age_range)\n",
    "\n",
    "df_sallem['Young']=df_sallem['age'].apply(encode_age)\n",
    "df_sallem.drop(['Birth date','age'], axis=1, errors='ignore', inplace=True)\n",
    "df_sallem"
   ]
  },
  {
   "cell_type": "code",
   "execution_count": 69,
   "metadata": {},
   "outputs": [
    {
     "data": {
      "text/plain": [
       "array([[-0.78266798, -0.31541751]])"
      ]
     },
     "execution_count": 69,
     "metadata": {},
     "output_type": "execute_result"
    }
   ],
   "source": [
    "X_pca_sallem=pca.transform(df_sallem)\n",
    "X_pca_sallem"
   ]
  },
  {
   "cell_type": "code",
   "execution_count": 70,
   "metadata": {},
   "outputs": [
    {
     "data": {
      "text/plain": [
       "array([1])"
      ]
     },
     "execution_count": 70,
     "metadata": {},
     "output_type": "execute_result"
    }
   ],
   "source": [
    "label_sallem = km.predict(X_pca_sallem)\n",
    "label_sallem"
   ]
  },
  {
   "cell_type": "code",
   "execution_count": 72,
   "metadata": {},
   "outputs": [
    {
     "data": {
      "image/png": "[encoded data removed]",
      "text/plain": [
       "<Figure size 640x480 with 1 Axes>"
      ]
     },
     "metadata": {},
     "output_type": "display_data"
    }
   ],
   "source": [
    "# plot clients data points\n",
    "plt.plot(cluster0[:,0],cluster0[:,1],'b+', label='cluster 0')\n",
    "plt.plot(cluster1[:,0],cluster1[:,1],'g+', label='cluster 1')\n",
    "plt.plot(cluster2[:,0],cluster2[:,1],'r+', label='cluster 2')\n",
    "plt.plot(X_pca_sallem[0,0],X_pca_sallem[0,1],'y*', label='Sondes belongs to cluster '+str(label_sallem[0]))\n",
    "\n",
    "# annotation of clients names\n",
    "for nom, x, y in zip(df_patients.index,X_pca[:,0],X_pca[:,1]):\n",
    "  plt.annotate(nom, xy =(x, y), xycoords=\"data\")\n",
    "\n",
    "plt.annotate('Sallem', xy =(X_pca_sallem[0,0], X_pca_sallem[0,1]), xycoords=\"data\")\n",
    "\n",
    "plt.legend()\n",
    "plt.title('Clusters of patients')\n",
    "plt.show()"
   ]
  }
 ],
 "metadata": {
  "kernelspec": {
   "display_name": "venv_ai",
   "language": "python",
   "name": "python3"
  },
  "language_info": {
   "codemirror_mode": {
    "name": "ipython",
    "version": 3
   },
   "file_extension": ".py",
   "mimetype": "text/x-python",
   "name": "python",
   "nbconvert_exporter": "python",
   "pygments_lexer": "ipython3",
   "version": "3.8.3"
  }
 },
 "nbformat": 4,
 "nbformat_minor": 2
}
