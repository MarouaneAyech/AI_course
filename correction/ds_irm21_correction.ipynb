{
 "cells": [
  {
   "cell_type": "markdown",
   "metadata": {},
   "source": [
    "1.\tLoad the dataset 'clients.csv' as a dataframe df_clients"
   ]
  },
  {
   "cell_type": "code",
   "execution_count": 55,
   "metadata": {},
   "outputs": [],
   "source": [
    "import pandas as pd"
   ]
  },
  {
   "cell_type": "code",
   "execution_count": 56,
   "metadata": {},
   "outputs": [
    {
     "data": {
      "text/html": [
       "<div>\n",
       "<style scoped>\n",
       "    .dataframe tbody tr th:only-of-type {\n",
       "        vertical-align: middle;\n",
       "    }\n",
       "\n",
       "    .dataframe tbody tr th {\n",
       "        vertical-align: top;\n",
       "    }\n",
       "\n",
       "    .dataframe thead th {\n",
       "        text-align: right;\n",
       "    }\n",
       "</style>\n",
       "<table border=\"1\" class=\"dataframe\">\n",
       "  <thead>\n",
       "    <tr style=\"text-align: right;\">\n",
       "      <th></th>\n",
       "      <th>Gender</th>\n",
       "      <th>Birth date</th>\n",
       "      <th>Annual Outcome</th>\n",
       "      <th>Annual Spending</th>\n",
       "      <th>Profession</th>\n",
       "      <th>Work experience</th>\n",
       "      <th>Family size</th>\n",
       "    </tr>\n",
       "    <tr>\n",
       "      <th>Customer ID</th>\n",
       "      <th></th>\n",
       "      <th></th>\n",
       "      <th></th>\n",
       "      <th></th>\n",
       "      <th></th>\n",
       "      <th></th>\n",
       "      <th></th>\n",
       "    </tr>\n",
       "  </thead>\n",
       "  <tbody>\n",
       "    <tr>\n",
       "      <th>Ahmed</th>\n",
       "      <td>Male</td>\n",
       "      <td>10/10/1993</td>\n",
       "      <td>24000</td>\n",
       "      <td>700</td>\n",
       "      <td>Healthcare</td>\n",
       "      <td>5</td>\n",
       "      <td>3</td>\n",
       "    </tr>\n",
       "    <tr>\n",
       "      <th>Sonia</th>\n",
       "      <td>Female</td>\n",
       "      <td>11/09/1998</td>\n",
       "      <td>25000</td>\n",
       "      <td>800</td>\n",
       "      <td>Engineer</td>\n",
       "      <td>2</td>\n",
       "      <td>2</td>\n",
       "    </tr>\n",
       "    <tr>\n",
       "      <th>Salma</th>\n",
       "      <td>Female</td>\n",
       "      <td>12/01/1991</td>\n",
       "      <td>24000</td>\n",
       "      <td>200</td>\n",
       "      <td>Lawyer</td>\n",
       "      <td>5</td>\n",
       "      <td>2</td>\n",
       "    </tr>\n",
       "    <tr>\n",
       "      <th>Walid</th>\n",
       "      <td>Male</td>\n",
       "      <td>10/01/1987</td>\n",
       "      <td>23500</td>\n",
       "      <td>250</td>\n",
       "      <td>Entertainment</td>\n",
       "      <td>4</td>\n",
       "      <td>3</td>\n",
       "    </tr>\n",
       "    <tr>\n",
       "      <th>Ramzi</th>\n",
       "      <td>Male</td>\n",
       "      <td>12/11/1995</td>\n",
       "      <td>25000</td>\n",
       "      <td>900</td>\n",
       "      <td>Doctor</td>\n",
       "      <td>3</td>\n",
       "      <td>2</td>\n",
       "    </tr>\n",
       "  </tbody>\n",
       "</table>\n",
       "</div>"
      ],
      "text/plain": [
       "             Gender  Birth date  Annual Outcome  Annual Spending  \\\n",
       "Customer ID                                                        \n",
       "Ahmed          Male  10/10/1993           24000              700   \n",
       "Sonia        Female  11/09/1998           25000              800   \n",
       "Salma        Female  12/01/1991           24000              200   \n",
       "Walid          Male  10/01/1987           23500              250   \n",
       "Ramzi          Male  12/11/1995           25000              900   \n",
       "\n",
       "                Profession  Work experience  Family size  \n",
       "Customer ID                                               \n",
       "Ahmed           Healthcare                5            3  \n",
       "Sonia             Engineer                2            2  \n",
       "Salma               Lawyer                5            2  \n",
       "Walid        Entertainment                4            3  \n",
       "Ramzi               Doctor                3            2  "
      ]
     },
     "execution_count": 56,
     "metadata": {},
     "output_type": "execute_result"
    }
   ],
   "source": [
    "df_clients=pd.read_csv('clients.csv',index_col=0,header=0)\n",
    "df_clients"
   ]
  },
  {
   "cell_type": "markdown",
   "metadata": {},
   "source": [
    "2.\tKeep only the columns 'Gender', 'Birth date', 'Family size' columns in df_clients dataframe"
   ]
  },
  {
   "cell_type": "code",
   "execution_count": 57,
   "metadata": {},
   "outputs": [
    {
     "data": {
      "text/html": [
       "<div>\n",
       "<style scoped>\n",
       "    .dataframe tbody tr th:only-of-type {\n",
       "        vertical-align: middle;\n",
       "    }\n",
       "\n",
       "    .dataframe tbody tr th {\n",
       "        vertical-align: top;\n",
       "    }\n",
       "\n",
       "    .dataframe thead th {\n",
       "        text-align: right;\n",
       "    }\n",
       "</style>\n",
       "<table border=\"1\" class=\"dataframe\">\n",
       "  <thead>\n",
       "    <tr style=\"text-align: right;\">\n",
       "      <th></th>\n",
       "      <th>Gender</th>\n",
       "      <th>Birth date</th>\n",
       "      <th>Family size</th>\n",
       "    </tr>\n",
       "    <tr>\n",
       "      <th>Customer ID</th>\n",
       "      <th></th>\n",
       "      <th></th>\n",
       "      <th></th>\n",
       "    </tr>\n",
       "  </thead>\n",
       "  <tbody>\n",
       "    <tr>\n",
       "      <th>Ahmed</th>\n",
       "      <td>Male</td>\n",
       "      <td>10/10/1993</td>\n",
       "      <td>3</td>\n",
       "    </tr>\n",
       "    <tr>\n",
       "      <th>Sonia</th>\n",
       "      <td>Female</td>\n",
       "      <td>11/09/1998</td>\n",
       "      <td>2</td>\n",
       "    </tr>\n",
       "    <tr>\n",
       "      <th>Salma</th>\n",
       "      <td>Female</td>\n",
       "      <td>12/01/1991</td>\n",
       "      <td>2</td>\n",
       "    </tr>\n",
       "    <tr>\n",
       "      <th>Walid</th>\n",
       "      <td>Male</td>\n",
       "      <td>10/01/1987</td>\n",
       "      <td>3</td>\n",
       "    </tr>\n",
       "    <tr>\n",
       "      <th>Ramzi</th>\n",
       "      <td>Male</td>\n",
       "      <td>12/11/1995</td>\n",
       "      <td>2</td>\n",
       "    </tr>\n",
       "  </tbody>\n",
       "</table>\n",
       "</div>"
      ],
      "text/plain": [
       "             Gender  Birth date  Family size\n",
       "Customer ID                                 \n",
       "Ahmed          Male  10/10/1993            3\n",
       "Sonia        Female  11/09/1998            2\n",
       "Salma        Female  12/01/1991            2\n",
       "Walid          Male  10/01/1987            3\n",
       "Ramzi          Male  12/11/1995            2"
      ]
     },
     "execution_count": 57,
     "metadata": {},
     "output_type": "execute_result"
    }
   ],
   "source": [
    "# Keep in df_clients_social only the following columns 'Gender' , 'Birthdate' and 'Family Size'\n",
    "df_clients_social=df_clients.loc[:,['Gender','Birth date','Family size']]\n",
    "df_clients_social"
   ]
  },
  {
   "cell_type": "markdown",
   "metadata": {},
   "source": [
    "3.\tReplace 'Birth date' column by 'Adult' column as follows :\n",
    "- 1 if the client age > mean(age)\n",
    "- 0 else"
   ]
  },
  {
   "cell_type": "code",
   "execution_count": 58,
   "metadata": {},
   "outputs": [
    {
     "data": {
      "text/html": [
       "<div>\n",
       "<style scoped>\n",
       "    .dataframe tbody tr th:only-of-type {\n",
       "        vertical-align: middle;\n",
       "    }\n",
       "\n",
       "    .dataframe tbody tr th {\n",
       "        vertical-align: top;\n",
       "    }\n",
       "\n",
       "    .dataframe thead th {\n",
       "        text-align: right;\n",
       "    }\n",
       "</style>\n",
       "<table border=\"1\" class=\"dataframe\">\n",
       "  <thead>\n",
       "    <tr style=\"text-align: right;\">\n",
       "      <th></th>\n",
       "      <th>Gender</th>\n",
       "      <th>Family size</th>\n",
       "      <th>Adult</th>\n",
       "    </tr>\n",
       "    <tr>\n",
       "      <th>Customer ID</th>\n",
       "      <th></th>\n",
       "      <th></th>\n",
       "      <th></th>\n",
       "    </tr>\n",
       "  </thead>\n",
       "  <tbody>\n",
       "    <tr>\n",
       "      <th>Ahmed</th>\n",
       "      <td>Male</td>\n",
       "      <td>3</td>\n",
       "      <td>0</td>\n",
       "    </tr>\n",
       "    <tr>\n",
       "      <th>Sonia</th>\n",
       "      <td>Female</td>\n",
       "      <td>2</td>\n",
       "      <td>0</td>\n",
       "    </tr>\n",
       "    <tr>\n",
       "      <th>Salma</th>\n",
       "      <td>Female</td>\n",
       "      <td>2</td>\n",
       "      <td>1</td>\n",
       "    </tr>\n",
       "    <tr>\n",
       "      <th>Walid</th>\n",
       "      <td>Male</td>\n",
       "      <td>3</td>\n",
       "      <td>1</td>\n",
       "    </tr>\n",
       "    <tr>\n",
       "      <th>Ramzi</th>\n",
       "      <td>Male</td>\n",
       "      <td>2</td>\n",
       "      <td>0</td>\n",
       "    </tr>\n",
       "  </tbody>\n",
       "</table>\n",
       "</div>"
      ],
      "text/plain": [
       "             Gender  Family size  Adult\n",
       "Customer ID                            \n",
       "Ahmed          Male            3      0\n",
       "Sonia        Female            2      0\n",
       "Salma        Female            2      1\n",
       "Walid          Male            3      1\n",
       "Ramzi          Male            2      0"
      ]
     },
     "execution_count": 58,
     "metadata": {},
     "output_type": "execute_result"
    }
   ],
   "source": [
    "from datetime import datetime\n",
    "df_clients_social['Birth date']=pd.to_datetime(df_clients_social['Birth date'])   \n",
    "df_clients_social['age']=df_clients_social['Birth date'].apply(lambda date : datetime.now().year-date.year)\n",
    "df_clients_social.drop('Birth date', axis=1, errors='ignore', inplace=True)\n",
    "mean_age = df_clients_social['age'].mean()\n",
    "def filtrer_age(age):\n",
    "    if age>mean_age:\n",
    "        return 1\n",
    "    else:\n",
    "        return 0\n",
    "df_clients_social['Adult']=df_clients_social['age'].apply(filtrer_age)\n",
    "df_clients_social.drop('age', axis=1, errors='ignore', inplace=True)\n",
    "df_clients_social"
   ]
  },
  {
   "cell_type": "markdown",
   "metadata": {},
   "source": [
    "4. Replace 'Gender' by its OHE encoding"
   ]
  },
  {
   "cell_type": "code",
   "execution_count": 59,
   "metadata": {},
   "outputs": [
    {
     "data": {
      "text/html": [
       "<div>\n",
       "<style scoped>\n",
       "    .dataframe tbody tr th:only-of-type {\n",
       "        vertical-align: middle;\n",
       "    }\n",
       "\n",
       "    .dataframe tbody tr th {\n",
       "        vertical-align: top;\n",
       "    }\n",
       "\n",
       "    .dataframe thead th {\n",
       "        text-align: right;\n",
       "    }\n",
       "</style>\n",
       "<table border=\"1\" class=\"dataframe\">\n",
       "  <thead>\n",
       "    <tr style=\"text-align: right;\">\n",
       "      <th></th>\n",
       "      <th>Family size</th>\n",
       "      <th>Adult</th>\n",
       "      <th>Gender Female</th>\n",
       "      <th>Gender Male</th>\n",
       "    </tr>\n",
       "    <tr>\n",
       "      <th>Customer ID</th>\n",
       "      <th></th>\n",
       "      <th></th>\n",
       "      <th></th>\n",
       "      <th></th>\n",
       "    </tr>\n",
       "  </thead>\n",
       "  <tbody>\n",
       "    <tr>\n",
       "      <th>Ahmed</th>\n",
       "      <td>3</td>\n",
       "      <td>0</td>\n",
       "      <td>0.0</td>\n",
       "      <td>1.0</td>\n",
       "    </tr>\n",
       "    <tr>\n",
       "      <th>Sonia</th>\n",
       "      <td>2</td>\n",
       "      <td>0</td>\n",
       "      <td>1.0</td>\n",
       "      <td>0.0</td>\n",
       "    </tr>\n",
       "    <tr>\n",
       "      <th>Salma</th>\n",
       "      <td>2</td>\n",
       "      <td>1</td>\n",
       "      <td>1.0</td>\n",
       "      <td>0.0</td>\n",
       "    </tr>\n",
       "    <tr>\n",
       "      <th>Walid</th>\n",
       "      <td>3</td>\n",
       "      <td>1</td>\n",
       "      <td>0.0</td>\n",
       "      <td>1.0</td>\n",
       "    </tr>\n",
       "    <tr>\n",
       "      <th>Ramzi</th>\n",
       "      <td>2</td>\n",
       "      <td>0</td>\n",
       "      <td>0.0</td>\n",
       "      <td>1.0</td>\n",
       "    </tr>\n",
       "  </tbody>\n",
       "</table>\n",
       "</div>"
      ],
      "text/plain": [
       "             Family size  Adult  Gender Female  Gender Male\n",
       "Customer ID                                                \n",
       "Ahmed                  3      0            0.0          1.0\n",
       "Sonia                  2      0            1.0          0.0\n",
       "Salma                  2      1            1.0          0.0\n",
       "Walid                  3      1            0.0          1.0\n",
       "Ramzi                  2      0            0.0          1.0"
      ]
     },
     "execution_count": 59,
     "metadata": {},
     "output_type": "execute_result"
    }
   ],
   "source": [
    "from sklearn.preprocessing import OneHotEncoder\n",
    "ohe=OneHotEncoder()\n",
    "ohe.fit(df_clients_social[['Gender']])\n",
    "gender_encoded=pd.DataFrame(ohe.transform(df_clients_social[['Gender']]).toarray(),\n",
    "                            columns='Gender ' + ohe.categories_[0],\n",
    "                            index=df_clients_social.index)\n",
    "df_clients_social=pd.concat([df_clients_social,gender_encoded] , axis=1)\n",
    "df_clients_social.drop('Gender', axis=1, errors='ignore', inplace=True)\n",
    "df_clients_social"
   ]
  },
  {
   "cell_type": "markdown",
   "metadata": {},
   "source": [
    "5. Normalize the Family size 'column' using this formula :\n",
    "        \n",
    "        familty size = (family size - min)/(max - min)\n",
    "\n",
    "Note : You can compute the minimum or the maximum of a column ‘A’ of a dataframe df as follows:\n",
    "\n",
    "        min=df[‘A’].min() \n",
    "        max=df[‘A’].max()\n"
   ]
  },
  {
   "cell_type": "code",
   "execution_count": 60,
   "metadata": {},
   "outputs": [
    {
     "data": {
      "text/html": [
       "<div>\n",
       "<style scoped>\n",
       "    .dataframe tbody tr th:only-of-type {\n",
       "        vertical-align: middle;\n",
       "    }\n",
       "\n",
       "    .dataframe tbody tr th {\n",
       "        vertical-align: top;\n",
       "    }\n",
       "\n",
       "    .dataframe thead th {\n",
       "        text-align: right;\n",
       "    }\n",
       "</style>\n",
       "<table border=\"1\" class=\"dataframe\">\n",
       "  <thead>\n",
       "    <tr style=\"text-align: right;\">\n",
       "      <th></th>\n",
       "      <th>Family size</th>\n",
       "      <th>Adult</th>\n",
       "      <th>Gender Female</th>\n",
       "      <th>Gender Male</th>\n",
       "    </tr>\n",
       "    <tr>\n",
       "      <th>Customer ID</th>\n",
       "      <th></th>\n",
       "      <th></th>\n",
       "      <th></th>\n",
       "      <th></th>\n",
       "    </tr>\n",
       "  </thead>\n",
       "  <tbody>\n",
       "    <tr>\n",
       "      <th>Ahmed</th>\n",
       "      <td>1.0</td>\n",
       "      <td>0</td>\n",
       "      <td>0.0</td>\n",
       "      <td>1.0</td>\n",
       "    </tr>\n",
       "    <tr>\n",
       "      <th>Sonia</th>\n",
       "      <td>0.0</td>\n",
       "      <td>0</td>\n",
       "      <td>1.0</td>\n",
       "      <td>0.0</td>\n",
       "    </tr>\n",
       "    <tr>\n",
       "      <th>Salma</th>\n",
       "      <td>0.0</td>\n",
       "      <td>1</td>\n",
       "      <td>1.0</td>\n",
       "      <td>0.0</td>\n",
       "    </tr>\n",
       "    <tr>\n",
       "      <th>Walid</th>\n",
       "      <td>1.0</td>\n",
       "      <td>1</td>\n",
       "      <td>0.0</td>\n",
       "      <td>1.0</td>\n",
       "    </tr>\n",
       "    <tr>\n",
       "      <th>Ramzi</th>\n",
       "      <td>0.0</td>\n",
       "      <td>0</td>\n",
       "      <td>0.0</td>\n",
       "      <td>1.0</td>\n",
       "    </tr>\n",
       "  </tbody>\n",
       "</table>\n",
       "</div>"
      ],
      "text/plain": [
       "             Family size  Adult  Gender Female  Gender Male\n",
       "Customer ID                                                \n",
       "Ahmed                1.0      0            0.0          1.0\n",
       "Sonia                0.0      0            1.0          0.0\n",
       "Salma                0.0      1            1.0          0.0\n",
       "Walid                1.0      1            0.0          1.0\n",
       "Ramzi                0.0      0            0.0          1.0"
      ]
     },
     "execution_count": 60,
     "metadata": {},
     "output_type": "execute_result"
    }
   ],
   "source": [
    "min=df_clients_social['Family size'].min()\n",
    "max=df_clients_social['Family size'].max()\n",
    "df_clients_social['Family size']=df_clients_social['Family size'].apply(\n",
    "                lambda family_size : (family_size-min)/(max-min))\n",
    "df_clients_social"
   ]
  },
  {
   "cell_type": "markdown",
   "metadata": {},
   "source": [
    "6. Reduce the dimensions of the dataset using PCA (keep only 2 dimensions)"
   ]
  },
  {
   "cell_type": "code",
   "execution_count": 61,
   "metadata": {},
   "outputs": [
    {
     "data": {
      "text/plain": [
       "array([[-0.81969569, -0.23040667],\n",
       "       [ 0.9015097 , -0.40386659],\n",
       "       [ 0.97649293,  0.52261765],\n",
       "       [-0.74471246,  0.69607757],\n",
       "       [-0.31359447, -0.58442197]])"
      ]
     },
     "execution_count": 61,
     "metadata": {},
     "output_type": "execute_result"
    }
   ],
   "source": [
    "from sklearn.decomposition import PCA\n",
    "pca=PCA(n_components=2)\n",
    "pca.fit(df_clients_social)\n",
    "X_pca=pca.transform(df_clients_social)\n",
    "X_pca"
   ]
  },
  {
   "cell_type": "markdown",
   "metadata": {},
   "source": [
    "7. Apply Kmeans on the resulting dataset to regroup the clients into 2 clusters"
   ]
  },
  {
   "cell_type": "code",
   "execution_count": 62,
   "metadata": {},
   "outputs": [
    {
     "name": "stderr",
     "output_type": "stream",
     "text": [
      "c:\\Users\\Polytech INTL\\OneDrive - POLYTECH INTL\\Desktop\\IRM2_2023\\AI_course\\venv_ai\\lib\\site-packages\\sklearn\\cluster\\_kmeans.py:1416: FutureWarning: The default value of `n_init` will change from 10 to 'auto' in 1.4. Set the value of `n_init` explicitly to suppress the warning\n",
      "  super()._check_params_vs_input(X, default_n_init=10)\n"
     ]
    }
   ],
   "source": [
    "from sklearn.cluster import KMeans\n",
    "km=KMeans(n_clusters=2)\n",
    "km.fit(X_pca)\n",
    "labels = km.predict(X_pca)\n",
    "cluster0=X_pca[labels==0,:]\n",
    "cluster1=X_pca[labels==1,:]"
   ]
  },
  {
   "cell_type": "markdown",
   "metadata": {},
   "source": [
    "8. Predict and visualize the clusters in a figure\n",
    "- Use different colors\n",
    "- Show the labels\n"
   ]
  },
  {
   "cell_type": "code",
   "execution_count": 63,
   "metadata": {},
   "outputs": [
    {
     "data": {
      "image/png": "[encoded data removed]",
      "text/plain": [
       "<Figure size 640x480 with 1 Axes>"
      ]
     },
     "metadata": {},
     "output_type": "display_data"
    }
   ],
   "source": [
    "# Show the cluster points with differents colors (based on cluster) and + symbol \n",
    "import matplotlib.pyplot as plt\n",
    "\n",
    "plt.plot(cluster0[:,0],cluster0[:,1],'b+', label='cluster 0')\n",
    "plt.plot(cluster1[:,0],cluster1[:,1],'g+', label='cluster 1')\n",
    "\n",
    "for nom, x, y in zip(df_clients_social.index,X_pca[:,0],X_pca[:,1]):\n",
    "  plt.annotate(nom, xy =(x, y), xycoords=\"data\")\n",
    "\n",
    "plt.legend()\n",
    "plt.title('Clusters of clients')\n",
    "plt.show()"
   ]
  },
  {
   "cell_type": "markdown",
   "metadata": {},
   "source": [
    "9.\tLet ‘Sondes’ be a new client. Their informations are Gender : Female , Family size : 1, Birth date: 04/02/2000.\n",
    "- Predict the cluster label of ‘Sondes’\n",
    "- Visualize ‘Sondes’ and its cluster label in the figure along side the other clients\n"
   ]
  },
  {
   "cell_type": "code",
   "execution_count": 64,
   "metadata": {},
   "outputs": [
    {
     "data": {
      "text/html": [
       "<div>\n",
       "<style scoped>\n",
       "    .dataframe tbody tr th:only-of-type {\n",
       "        vertical-align: middle;\n",
       "    }\n",
       "\n",
       "    .dataframe tbody tr th {\n",
       "        vertical-align: top;\n",
       "    }\n",
       "\n",
       "    .dataframe thead th {\n",
       "        text-align: right;\n",
       "    }\n",
       "</style>\n",
       "<table border=\"1\" class=\"dataframe\">\n",
       "  <thead>\n",
       "    <tr style=\"text-align: right;\">\n",
       "      <th></th>\n",
       "      <th>Gender</th>\n",
       "      <th>Birth date</th>\n",
       "      <th>Family size</th>\n",
       "    </tr>\n",
       "  </thead>\n",
       "  <tbody>\n",
       "    <tr>\n",
       "      <th>Sondes</th>\n",
       "      <td>Female</td>\n",
       "      <td>04/02/2000</td>\n",
       "      <td>1</td>\n",
       "    </tr>\n",
       "  </tbody>\n",
       "</table>\n",
       "</div>"
      ],
      "text/plain": [
       "        Gender  Birth date  Family size\n",
       "Sondes  Female  04/02/2000            1"
      ]
     },
     "execution_count": 64,
     "metadata": {},
     "output_type": "execute_result"
    }
   ],
   "source": [
    "df_sondes = pd.DataFrame([['Female','04/02/2000',1]], \n",
    "                        columns=['Gender','Birth date','Family size'], \n",
    "                        index=['Sondes'])\n",
    "df_sondes"
   ]
  },
  {
   "cell_type": "code",
   "execution_count": 65,
   "metadata": {},
   "outputs": [
    {
     "data": {
      "text/html": [
       "<div>\n",
       "<style scoped>\n",
       "    .dataframe tbody tr th:only-of-type {\n",
       "        vertical-align: middle;\n",
       "    }\n",
       "\n",
       "    .dataframe tbody tr th {\n",
       "        vertical-align: top;\n",
       "    }\n",
       "\n",
       "    .dataframe thead th {\n",
       "        text-align: right;\n",
       "    }\n",
       "</style>\n",
       "<table border=\"1\" class=\"dataframe\">\n",
       "  <thead>\n",
       "    <tr style=\"text-align: right;\">\n",
       "      <th></th>\n",
       "      <th>Gender</th>\n",
       "      <th>Family size</th>\n",
       "      <th>Adult</th>\n",
       "    </tr>\n",
       "  </thead>\n",
       "  <tbody>\n",
       "    <tr>\n",
       "      <th>Sondes</th>\n",
       "      <td>Female</td>\n",
       "      <td>1</td>\n",
       "      <td>0</td>\n",
       "    </tr>\n",
       "  </tbody>\n",
       "</table>\n",
       "</div>"
      ],
      "text/plain": [
       "        Gender  Family size  Adult\n",
       "Sondes  Female            1      0"
      ]
     },
     "execution_count": 65,
     "metadata": {},
     "output_type": "execute_result"
    }
   ],
   "source": [
    "df_sondes['Birth date']=pd.to_datetime(df_sondes['Birth date'])   \n",
    "df_sondes['age']=df_sondes['Birth date'].apply(lambda date : datetime.now().year-date.year)\n",
    "df_sondes['Adult']=df_sondes['age'].apply(filtrer_age)\n",
    "df_sondes.drop('age', axis=1, errors='ignore', inplace=True)\n",
    "df_sondes.drop('Birth date', axis=1, errors='ignore', inplace=True)\n",
    "df_sondes"
   ]
  },
  {
   "cell_type": "code",
   "execution_count": 66,
   "metadata": {},
   "outputs": [
    {
     "data": {
      "text/html": [
       "<div>\n",
       "<style scoped>\n",
       "    .dataframe tbody tr th:only-of-type {\n",
       "        vertical-align: middle;\n",
       "    }\n",
       "\n",
       "    .dataframe tbody tr th {\n",
       "        vertical-align: top;\n",
       "    }\n",
       "\n",
       "    .dataframe thead th {\n",
       "        text-align: right;\n",
       "    }\n",
       "</style>\n",
       "<table border=\"1\" class=\"dataframe\">\n",
       "  <thead>\n",
       "    <tr style=\"text-align: right;\">\n",
       "      <th></th>\n",
       "      <th>Family size</th>\n",
       "      <th>Adult</th>\n",
       "      <th>Gender Female</th>\n",
       "      <th>Gender Male</th>\n",
       "    </tr>\n",
       "  </thead>\n",
       "  <tbody>\n",
       "    <tr>\n",
       "      <th>Sondes</th>\n",
       "      <td>1</td>\n",
       "      <td>0</td>\n",
       "      <td>1.0</td>\n",
       "      <td>0.0</td>\n",
       "    </tr>\n",
       "  </tbody>\n",
       "</table>\n",
       "</div>"
      ],
      "text/plain": [
       "        Family size  Adult  Gender Female  Gender Male\n",
       "Sondes            1      0            1.0          0.0"
      ]
     },
     "execution_count": 66,
     "metadata": {},
     "output_type": "execute_result"
    }
   ],
   "source": [
    "gender_encoded=pd.DataFrame(ohe.transform(df_sondes[['Gender']]).toarray(),\n",
    "                            columns='Gender ' + ohe.categories_[0],\n",
    "                            index=df_sondes.index)\n",
    "df_sondes=pd.concat([df_sondes,gender_encoded] , axis=1)\n",
    "df_sondes.drop('Gender', axis=1, errors='ignore', inplace=True)\n",
    "df_sondes"
   ]
  },
  {
   "cell_type": "code",
   "execution_count": 71,
   "metadata": {},
   "outputs": [
    {
     "data": {
      "text/html": [
       "<div>\n",
       "<style scoped>\n",
       "    .dataframe tbody tr th:only-of-type {\n",
       "        vertical-align: middle;\n",
       "    }\n",
       "\n",
       "    .dataframe tbody tr th {\n",
       "        vertical-align: top;\n",
       "    }\n",
       "\n",
       "    .dataframe thead th {\n",
       "        text-align: right;\n",
       "    }\n",
       "</style>\n",
       "<table border=\"1\" class=\"dataframe\">\n",
       "  <thead>\n",
       "    <tr style=\"text-align: right;\">\n",
       "      <th></th>\n",
       "      <th>Family size</th>\n",
       "      <th>Adult</th>\n",
       "      <th>Gender Female</th>\n",
       "      <th>Gender Male</th>\n",
       "    </tr>\n",
       "  </thead>\n",
       "  <tbody>\n",
       "    <tr>\n",
       "      <th>Sondes</th>\n",
       "      <td>-1.0</td>\n",
       "      <td>0</td>\n",
       "      <td>1.0</td>\n",
       "      <td>0.0</td>\n",
       "    </tr>\n",
       "  </tbody>\n",
       "</table>\n",
       "</div>"
      ],
      "text/plain": [
       "        Family size  Adult  Gender Female  Gender Male\n",
       "Sondes         -1.0      0            1.0          0.0"
      ]
     },
     "execution_count": 71,
     "metadata": {},
     "output_type": "execute_result"
    }
   ],
   "source": [
    "df_sondes['Family size']=df_sondes['Family size'].apply(\n",
    "                lambda family_size : (family_size-min)/(max-min))\n",
    "df_sondes"
   ]
  },
  {
   "cell_type": "code",
   "execution_count": 73,
   "metadata": {},
   "outputs": [
    {
     "data": {
      "text/plain": [
       "array([[ 1.40761092, -0.75788189]])"
      ]
     },
     "execution_count": 73,
     "metadata": {},
     "output_type": "execute_result"
    }
   ],
   "source": [
    "X_pca_sondes=pca.transform(df_sondes)\n",
    "X_pca_sondes"
   ]
  },
  {
   "cell_type": "code",
   "execution_count": 75,
   "metadata": {},
   "outputs": [
    {
     "data": {
      "text/plain": [
       "array([1])"
      ]
     },
     "execution_count": 75,
     "metadata": {},
     "output_type": "execute_result"
    }
   ],
   "source": [
    "label_sondes = km.predict(X_pca_sondes)\n",
    "label_sondes"
   ]
  },
  {
   "cell_type": "code",
   "execution_count": 81,
   "metadata": {},
   "outputs": [
    {
     "data": {
      "image/png": "[encoded data removed]",
      "text/plain": [
       "<Figure size 640x480 with 1 Axes>"
      ]
     },
     "metadata": {},
     "output_type": "display_data"
    }
   ],
   "source": [
    "# Show the cluster points with differents colors (based on cluster) and + symbol \n",
    "import matplotlib.pyplot as plt\n",
    "\n",
    "# plot clients data points\n",
    "plt.plot(cluster0[:,0],cluster0[:,1],'b+', label='cluster 0')\n",
    "plt.plot(cluster1[:,0],cluster1[:,1],'g+', label='cluster 1')\n",
    "plt.plot(X_pca_sondes[0,0],X_pca_sondes[0,1],'r*', label='Sondes belongs to cluster '+str(label_sondes[0]))\n",
    "\n",
    "# annotation of clients names\n",
    "for nom, x, y in zip(df_clients_social.index,X_pca[:,0],X_pca[:,1]):\n",
    "  plt.annotate(nom, xy =(x, y), xycoords=\"data\")\n",
    "\n",
    "plt.annotate('Sondes', xy =(X_pca_sondes[0,0], X_pca_sondes[0,1]), xycoords=\"data\")\n",
    "\n",
    "plt.legend()\n",
    "plt.title('Clusters of clients')\n",
    "plt.show()"
   ]
  },
  {
   "cell_type": "code",
   "execution_count": null,
   "metadata": {},
   "outputs": [],
   "source": []
  }
 ],
 "metadata": {
  "kernelspec": {
   "display_name": "venv_ai",
   "language": "python",
   "name": "python3"
  },
  "language_info": {
   "codemirror_mode": {
    "name": "ipython",
    "version": 3
   },
   "file_extension": ".py",
   "mimetype": "text/x-python",
   "name": "python",
   "nbconvert_exporter": "python",
   "pygments_lexer": "ipython3",
   "version": "3.8.3"
  }
 },
 "nbformat": 4,
 "nbformat_minor": 2
}
